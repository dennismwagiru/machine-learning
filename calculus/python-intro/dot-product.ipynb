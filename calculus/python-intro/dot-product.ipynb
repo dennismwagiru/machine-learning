{
 "cells": [
  {
   "cell_type": "code",
   "execution_count": 23,
   "metadata": {
    "collapsed": false
   },
   "outputs": [],
   "source": [
    "import numpy as np"
   ]
  },
  {
   "cell_type": "code",
   "execution_count": 24,
   "metadata": {
    "collapsed": true
   },
   "outputs": [],
   "source": [
    "#Exercise\n",
    "# Create a function that computes the \"dot product\" between two vector\n",
    "#   1) check that both inputs are numpy arrays\n",
    "#   2) check that the two inputs are the same length\n",
    "#   3a) break out of the function and give a helpful error message. -> raise Exception()\n",
    "#   3b) compute and return the dot product\n"
   ]
  },
  {
   "cell_type": "code",
   "execution_count": 25,
   "metadata": {
    "collapsed": false
   },
   "outputs": [],
   "source": [
    "def dotproduct(a, b):\n",
    "    if not (isinstance(a, np.ndarray) and isinstance(b, np.ndarray)):\n",
    "        raise Exception('Inputs must be numpy arrays')\n",
    "\n",
    "    if len(a) != len(b):\n",
    "        raise Exception('Inputs must be the same length')\n",
    "\n",
    "    return np.dot(v1, v2)"
   ]
  },
  {
   "cell_type": "code",
   "execution_count": 28,
   "metadata": {
    "collapsed": false
   },
   "outputs": [
    {
     "data": {
      "text/plain": [
       "41.48762995078887"
      ]
     },
     "execution_count": 28,
     "metadata": {},
     "output_type": "execute_result"
    }
   ],
   "source": [
    "\n",
    "v1 = np.random.random(size=3)\n",
    "v2 = np.random.random(size=3)\n",
    "\n",
    "dotproduct(v1, v2)\n"
   ]
  },
  {
   "cell_type": "code",
   "execution_count": 26,
   "metadata": {
    "collapsed": false
   },
   "outputs": [],
   "source": []
  }
 ],
 "metadata": {
  "kernelspec": {
   "display_name": "env",
   "language": "python",
   "name": "python3"
  },
  "language_info": {
   "codemirror_mode": {
    "name": "ipython",
    "version": 2
   },
   "file_extension": ".py",
   "mimetype": "text/x-python",
   "name": "python",
   "nbconvert_exporter": "python",
   "pygments_lexer": "ipython2",
   "version": "3.11.0"
  },
  "vscode": {
   "interpreter": {
    "hash": "806b4f836cdac204c3228020afa798fc21c93eb9be1a049ce8c4ff9d7c05c228"
   }
  }
 },
 "nbformat": 4,
 "nbformat_minor": 0
}
