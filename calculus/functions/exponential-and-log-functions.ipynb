{
 "cells": [
  {
   "cell_type": "code",
   "execution_count": null,
   "metadata": {},
   "outputs": [],
   "source": []
  }
 ],
 "metadata": {
  "kernelspec": {
   "display_name": "env",
   "language": "python",
   "name": "python3"
  },
  "language_info": {
   "name": "python",
   "version": "3.11.0"
  },
  "orig_nbformat": 4,
  "vscode": {
   "interpreter": {
    "hash": "806b4f836cdac204c3228020afa798fc21c93eb9be1a049ce8c4ff9d7c05c228"
   }
  }
 },
 "nbformat": 4,
 "nbformat_minor": 2
}
