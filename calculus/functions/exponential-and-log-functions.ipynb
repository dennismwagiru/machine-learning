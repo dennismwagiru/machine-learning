{
 "cells": [
  {
   "cell_type": "code",
   "execution_count": 6,
   "metadata": {},
   "outputs": [],
   "source": [
    "import math"
   ]
  },
  {
   "cell_type": "code",
   "execution_count": 11,
   "metadata": {},
   "outputs": [
    {
     "name": "stdout",
     "output_type": "stream",
     "text": [
      "n:  1,   est.e: 2.00000,  diff to e: 0.71828\n",
      "n:  2,   est.e: 2.25000,  diff to e: 0.46828\n",
      "n:  5,   est.e: 2.48832,  diff to e: 0.22996\n",
      "n: 10,   est.e: 2.59374,  diff to e: 0.12454\n"
     ]
    }
   ],
   "source": [
    "n = [1, 2, 5, 10]\n",
    "for i in n:\n",
    "    #  estimate e\n",
    "    e = (1+1/i)**i\n",
    "    diff = math.e - e\n",
    "    print(f'n: {i:2.0f},   est.e: {e:2.5f},  diff to e: {math.e - e:.5f}')"
   ]
  }
 ],
 "metadata": {
  "kernelspec": {
   "display_name": "env",
   "language": "python",
   "name": "python3"
  },
  "language_info": {
   "codemirror_mode": {
    "name": "ipython",
    "version": 3
   },
   "file_extension": ".py",
   "mimetype": "text/x-python",
   "name": "python",
   "nbconvert_exporter": "python",
   "pygments_lexer": "ipython3",
   "version": "3.11.0"
  },
  "orig_nbformat": 4,
  "vscode": {
   "interpreter": {
    "hash": "806b4f836cdac204c3228020afa798fc21c93eb9be1a049ce8c4ff9d7c05c228"
   }
  }
 },
 "nbformat": 4,
 "nbformat_minor": 2
}
