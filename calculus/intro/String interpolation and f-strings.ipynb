{
 "cells": [
  {
   "cell_type": "code",
   "execution_count": 8,
   "id": "ab128eb1",
   "metadata": {},
   "outputs": [
    {
     "name": "stdout",
     "output_type": "stream",
     "text": [
      "I would like to have 11.7 cellar doors.\n"
     ]
    }
   ],
   "source": [
    "num = 11.7\n",
    "sng = 'cellar doors'\n",
    "\n",
    "print('I would like to have ' + str(num) + ' ' + sng + '.')"
   ]
  },
  {
   "cell_type": "code",
   "execution_count": 2,
   "id": "f4857bce",
   "metadata": {},
   "outputs": [
    {
     "name": "stdout",
     "output_type": "stream",
     "text": [
      "I would like to have 11.7 cellar doors.\n"
     ]
    }
   ],
   "source": [
    "print('I would like to have %g %s.' %(num, sng))"
   ]
  },
  {
   "cell_type": "code",
   "execution_count": 10,
   "id": "4a784e7c",
   "metadata": {},
   "outputs": [
    {
     "name": "stdout",
     "output_type": "stream",
     "text": [
      " I would like to have 11.754 cellar doors.\n"
     ]
    }
   ],
   "source": [
    "num = 11.753834754\n",
    "print(' I would like to have %.3f %s.' %(num, sng))"
   ]
  },
  {
   "cell_type": "code",
   "execution_count": 12,
   "id": "d8052223",
   "metadata": {},
   "outputs": [
    {
     "name": "stdout",
     "output_type": "stream",
     "text": [
      "I would like to have 11.75 cellar doors.\n"
     ]
    }
   ],
   "source": [
    "# f-strings\n",
    "\n",
    "print(f'I would like to have {num:.2f} {sng}.')"
   ]
  },
  {
   "cell_type": "code",
   "execution_count": 15,
   "id": "0cfd07d3",
   "metadata": {},
   "outputs": [
    {
     "name": "stdout",
     "output_type": "stream",
     "text": [
      "I would like to have 11.75 cellar doors.\n"
     ]
    }
   ],
   "source": [
    "print('I would like to have {num:.2f} {sng}.'.format(num=num, sng=sng))"
   ]
  },
  {
   "cell_type": "code",
   "execution_count": 27,
   "id": "06f7c799",
   "metadata": {},
   "outputs": [
    {
     "name": "stdout",
     "output_type": "stream",
     "text": [
      "a is the 1st letter.\n",
      "b is the 2nd letter.\n",
      "c is the 3rd letter.\n",
      "d is the 4th letter.\n",
      "e is the 5th letter.\n",
      "f is the 6th letter.\n",
      "g is the 7th letter.\n",
      "h is the 8th letter.\n",
      "i is the 9th letter.\n",
      "j is the 10th letter.\n",
      "k is the 11th letter.\n",
      "l is the 12th letter.\n",
      "m is the 13th letter.\n",
      "n is the 14th letter.\n",
      "o is the 15th letter.\n",
      "p is the 16th letter.\n",
      "q is the 17th letter.\n",
      "r is the 18th letter.\n",
      "s is the 19th letter.\n",
      "t is the 20th letter.\n",
      "u is the 21st letter.\n",
      "v is the 22nd letter.\n",
      "w is the 23rd letter.\n",
      "x is the 24th letter.\n",
      "y is the 25th letter.\n",
      "z is the 26th letter.\n"
     ]
    }
   ],
   "source": [
    "# Exercise\n",
    "# Print out each letter of the alphabet with its ordnial position\n",
    "import string\n",
    "\n",
    "for i, j in enumerate(string.ascii_lowercase):\n",
    "    index = i + 1\n",
    "    if 11 <= (index % 100) <= 13:\n",
    "        suffix = 'th'\n",
    "    else:\n",
    "        suffix = ['th', 'st', 'nd', 'rd', 'th'][min(index % 10, 4)]\n",
    "    print('{} is the {}{} letter.'.format(j, i + 1, suffix))\n"
   ]
  },
  {
   "cell_type": "code",
   "execution_count": null,
   "id": "4cb16621",
   "metadata": {},
   "outputs": [],
   "source": []
  }
 ],
 "metadata": {
  "kernelspec": {
   "display_name": "Python 3 (ipykernel)",
   "language": "python",
   "name": "python3"
  },
  "language_info": {
   "codemirror_mode": {
    "name": "ipython",
    "version": 3
   },
   "file_extension": ".py",
   "mimetype": "text/x-python",
   "name": "python",
   "nbconvert_exporter": "python",
   "pygments_lexer": "ipython3",
   "version": "3.11.0"
  }
 },
 "nbformat": 4,
 "nbformat_minor": 5
}
