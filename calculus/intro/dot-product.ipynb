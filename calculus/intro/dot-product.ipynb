{
 "cells": [
  {
   "cell_type": "code",
   "execution_count": 23,
   "outputs": [],
   "source": [
    "import numpy as np"
   ],
   "metadata": {
    "collapsed": false
   }
  },
  {
   "cell_type": "code",
   "execution_count": 24,
   "metadata": {
    "collapsed": true
   },
   "outputs": [],
   "source": [
    "#Exercise\n",
    "# Create a function that computes the \"dot product\" between two vector\n",
    "#   1) check that both inputs are numpy arrays\n",
    "#   2) check that the two inputs are the same length\n",
    "#   3a) break out of the function and give a helpful error message. -> raise Exception()\n",
    "#   3b) compute and return the dot product\n"
   ]
  },
  {
   "cell_type": "code",
   "execution_count": 25,
   "outputs": [],
   "source": [
    "def dotproduct(a, b):\n",
    "    if not (isinstance(a, np.ndarray) and isinstance(b, np.ndarray)):\n",
    "        raise Exception('Inputs must be numpy arrays')\n",
    "\n",
    "    if len(a) != len(b):\n",
    "        raise Exception('Inputs must be the same length')\n",
    "\n",
    "    return np.dot(v1, v2)"
   ],
   "metadata": {
    "collapsed": false
   }
  },
  {
   "cell_type": "code",
   "execution_count": 28,
   "outputs": [
    {
     "data": {
      "text/plain": "41.48762995078887"
     },
     "execution_count": 28,
     "metadata": {},
     "output_type": "execute_result"
    }
   ],
   "source": [
    "\n",
    "v1 = np.random.random(size=3)\n",
    "v2 = np.random.random(size=3)\n",
    "\n",
    "dotproduct(v1, v2)\n"
   ],
   "metadata": {
    "collapsed": false
   }
  },
  {
   "cell_type": "code",
   "execution_count": 26,
   "outputs": [],
   "source": [],
   "metadata": {
    "collapsed": false
   }
  }
 ],
 "metadata": {
  "kernelspec": {
   "display_name": "Python 3",
   "language": "python",
   "name": "python3"
  },
  "language_info": {
   "codemirror_mode": {
    "name": "ipython",
    "version": 2
   },
   "file_extension": ".py",
   "mimetype": "text/x-python",
   "name": "python",
   "nbconvert_exporter": "python",
   "pygments_lexer": "ipython2",
   "version": "2.7.6"
  }
 },
 "nbformat": 4,
 "nbformat_minor": 0
}
